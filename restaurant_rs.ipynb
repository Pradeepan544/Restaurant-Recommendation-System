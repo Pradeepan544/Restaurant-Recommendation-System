{
  "nbformat": 4,
  "nbformat_minor": 0,
  "metadata": {
    "colab": {
      "provenance": []
    },
    "kernelspec": {
      "name": "python3",
      "display_name": "Python 3"
    },
    "language_info": {
      "name": "python"
    }
  },
  "cells": [
    {
      "cell_type": "code",
      "execution_count": null,
      "metadata": {
        "id": "Zd_ltiXvpttk"
      },
      "outputs": [],
      "source": [
        "import pandas as pd\n",
        "import matplotlib.pyplot as plt\n",
        "import seaborn as sns"
      ]
    },
    {
      "cell_type": "code",
      "source": [
        "data=pd.read_csv('/content/drive/MyDrive/Recommendation System/zomato_cleaned_40%.csv')"
      ],
      "metadata": {
        "id": "1ugcWRZOsJTy"
      },
      "execution_count": null,
      "outputs": []
    },
    {
      "cell_type": "code",
      "source": [
        "data.head()"
      ],
      "metadata": {
        "colab": {
          "base_uri": "https://localhost:8080/",
          "height": 608
        },
        "id": "CCC-dTwtsXa7",
        "outputId": "42f60a15-55cd-4b40-fa84-1ad79cc72101"
      },
      "execution_count": null,
      "outputs": [
        {
          "output_type": "execute_result",
          "data": {
            "text/plain": [
              "                                                 url  \\\n",
              "0  https://www.zomato.com/bangalore/dasaprakash-c...   \n",
              "1  https://www.zomato.com/bangalore/zaica-dine-wi...   \n",
              "2  https://www.zomato.com/bangalore/deckers-lane-...   \n",
              "3  https://www.zomato.com/bangalore/la-passion-ca...   \n",
              "4  https://www.zomato.com/bangalore/classic-lassi...   \n",
              "\n",
              "                                             address                name  \\\n",
              "0  Lower walkway, Rangoli Metro Art Center, Boule...    Dasaprakash Cafe   \n",
              "1  125, 1st Floor, Mahadevanpura Post, Brookefiel...   Zaica Dine & Wine   \n",
              "2  Kundanahalli Gate, Sai Baba Temple Road, Next ...       Decker's Lane   \n",
              "3    36, Jaya Bheema Nagar, Layout 1, BTM, Bangalore     La Passion Cafe   \n",
              "4  Skywalk, 5/1, Near Body Craft, Assaye Road, Ul...  Classic Lassi Shop   \n",
              "\n",
              "  online_order book_table  rate  votes                                 phone  \\\n",
              "0           No         No   3.2     10                        +91 9845083676   \n",
              "1          Yes        Yes   3.8    818                          080 41162485   \n",
              "2          Yes         No   2.1    243                        +91 7829447722   \n",
              "3          Yes         No   3.7      0                        +91 8217706039   \n",
              "4          Yes         No   3.5     43  +91 8792958786\\r\\r\\r\\n+91 8073579529   \n",
              "\n",
              "       location           rest_type  \\\n",
              "0       MG Road                Cafe   \n",
              "1   Brookefield  Casual Dining, Bar   \n",
              "2  Marathahalli         Quick Bites   \n",
              "3           BTM                Cafe   \n",
              "4        Ulsoor       Beverage Shop   \n",
              "\n",
              "                                          dish_liked              cuisines  \\\n",
              "0                                                NaN                  Cafe   \n",
              "1  Lemon Chicken, Egg Curry, Malai Kofta, Veg Sta...          North Indian   \n",
              "2  Rolls, Rasgulla, Fish Fry, Bhetki Paturi, Mutt...               Bengali   \n",
              "3                                                NaN                  Cafe   \n",
              "4                                                NaN  Beverages, Ice Cream   \n",
              "\n",
              "  approx_cost(for two people)  \\\n",
              "0                         400   \n",
              "1                         750   \n",
              "2                         400   \n",
              "3                         500   \n",
              "4                         150   \n",
              "\n",
              "                                        reviews_list  \\\n",
              "0  [('Rated 4.0', \"RATED\\n  Had the filter coffee...   \n",
              "1  [('Rated 4.0', 'RATED\\n  Decent place for a di...   \n",
              "2  [('Rated 2.0', 'RATED\\n  Initially I was prett...   \n",
              "3                                                 []   \n",
              "4  [('Rated 3.0', 'RATED\\n  I have mixed feeling ...   \n",
              "\n",
              "                                           menu_item listed_in(type)  \\\n",
              "0                                                 []        Dine-out   \n",
              "1  ['Lemony Chicken Tikka', 'Kadai Paneer Patiyal...        Dine-out   \n",
              "2                                                 []        Dine-out   \n",
              "3  ['Chhole Bhature', 'Aloo Paratha', 'Poha', 'Sp...        Desserts   \n",
              "4                                                 []        Delivery   \n",
              "\n",
              "  listed_in(city)  \n",
              "0    Lavelle Road  \n",
              "1     Brookefield  \n",
              "2    Marathahalli  \n",
              "3             BTM  \n",
              "4   Church Street  "
            ],
            "text/html": [
              "\n",
              "  <div id=\"df-f1713737-31c4-43a4-a645-f4126e59144c\" class=\"colab-df-container\">\n",
              "    <div>\n",
              "<style scoped>\n",
              "    .dataframe tbody tr th:only-of-type {\n",
              "        vertical-align: middle;\n",
              "    }\n",
              "\n",
              "    .dataframe tbody tr th {\n",
              "        vertical-align: top;\n",
              "    }\n",
              "\n",
              "    .dataframe thead th {\n",
              "        text-align: right;\n",
              "    }\n",
              "</style>\n",
              "<table border=\"1\" class=\"dataframe\">\n",
              "  <thead>\n",
              "    <tr style=\"text-align: right;\">\n",
              "      <th></th>\n",
              "      <th>url</th>\n",
              "      <th>address</th>\n",
              "      <th>name</th>\n",
              "      <th>online_order</th>\n",
              "      <th>book_table</th>\n",
              "      <th>rate</th>\n",
              "      <th>votes</th>\n",
              "      <th>phone</th>\n",
              "      <th>location</th>\n",
              "      <th>rest_type</th>\n",
              "      <th>dish_liked</th>\n",
              "      <th>cuisines</th>\n",
              "      <th>approx_cost(for two people)</th>\n",
              "      <th>reviews_list</th>\n",
              "      <th>menu_item</th>\n",
              "      <th>listed_in(type)</th>\n",
              "      <th>listed_in(city)</th>\n",
              "    </tr>\n",
              "  </thead>\n",
              "  <tbody>\n",
              "    <tr>\n",
              "      <th>0</th>\n",
              "      <td>https://www.zomato.com/bangalore/dasaprakash-c...</td>\n",
              "      <td>Lower walkway, Rangoli Metro Art Center, Boule...</td>\n",
              "      <td>Dasaprakash Cafe</td>\n",
              "      <td>No</td>\n",
              "      <td>No</td>\n",
              "      <td>3.2</td>\n",
              "      <td>10</td>\n",
              "      <td>+91 9845083676</td>\n",
              "      <td>MG Road</td>\n",
              "      <td>Cafe</td>\n",
              "      <td>NaN</td>\n",
              "      <td>Cafe</td>\n",
              "      <td>400</td>\n",
              "      <td>[('Rated 4.0', \"RATED\\n  Had the filter coffee...</td>\n",
              "      <td>[]</td>\n",
              "      <td>Dine-out</td>\n",
              "      <td>Lavelle Road</td>\n",
              "    </tr>\n",
              "    <tr>\n",
              "      <th>1</th>\n",
              "      <td>https://www.zomato.com/bangalore/zaica-dine-wi...</td>\n",
              "      <td>125, 1st Floor, Mahadevanpura Post, Brookefiel...</td>\n",
              "      <td>Zaica Dine &amp; Wine</td>\n",
              "      <td>Yes</td>\n",
              "      <td>Yes</td>\n",
              "      <td>3.8</td>\n",
              "      <td>818</td>\n",
              "      <td>080 41162485</td>\n",
              "      <td>Brookefield</td>\n",
              "      <td>Casual Dining, Bar</td>\n",
              "      <td>Lemon Chicken, Egg Curry, Malai Kofta, Veg Sta...</td>\n",
              "      <td>North Indian</td>\n",
              "      <td>750</td>\n",
              "      <td>[('Rated 4.0', 'RATED\\n  Decent place for a di...</td>\n",
              "      <td>['Lemony Chicken Tikka', 'Kadai Paneer Patiyal...</td>\n",
              "      <td>Dine-out</td>\n",
              "      <td>Brookefield</td>\n",
              "    </tr>\n",
              "    <tr>\n",
              "      <th>2</th>\n",
              "      <td>https://www.zomato.com/bangalore/deckers-lane-...</td>\n",
              "      <td>Kundanahalli Gate, Sai Baba Temple Road, Next ...</td>\n",
              "      <td>Decker's Lane</td>\n",
              "      <td>Yes</td>\n",
              "      <td>No</td>\n",
              "      <td>2.1</td>\n",
              "      <td>243</td>\n",
              "      <td>+91 7829447722</td>\n",
              "      <td>Marathahalli</td>\n",
              "      <td>Quick Bites</td>\n",
              "      <td>Rolls, Rasgulla, Fish Fry, Bhetki Paturi, Mutt...</td>\n",
              "      <td>Bengali</td>\n",
              "      <td>400</td>\n",
              "      <td>[('Rated 2.0', 'RATED\\n  Initially I was prett...</td>\n",
              "      <td>[]</td>\n",
              "      <td>Dine-out</td>\n",
              "      <td>Marathahalli</td>\n",
              "    </tr>\n",
              "    <tr>\n",
              "      <th>3</th>\n",
              "      <td>https://www.zomato.com/bangalore/la-passion-ca...</td>\n",
              "      <td>36, Jaya Bheema Nagar, Layout 1, BTM, Bangalore</td>\n",
              "      <td>La Passion Cafe</td>\n",
              "      <td>Yes</td>\n",
              "      <td>No</td>\n",
              "      <td>3.7</td>\n",
              "      <td>0</td>\n",
              "      <td>+91 8217706039</td>\n",
              "      <td>BTM</td>\n",
              "      <td>Cafe</td>\n",
              "      <td>NaN</td>\n",
              "      <td>Cafe</td>\n",
              "      <td>500</td>\n",
              "      <td>[]</td>\n",
              "      <td>['Chhole Bhature', 'Aloo Paratha', 'Poha', 'Sp...</td>\n",
              "      <td>Desserts</td>\n",
              "      <td>BTM</td>\n",
              "    </tr>\n",
              "    <tr>\n",
              "      <th>4</th>\n",
              "      <td>https://www.zomato.com/bangalore/classic-lassi...</td>\n",
              "      <td>Skywalk, 5/1, Near Body Craft, Assaye Road, Ul...</td>\n",
              "      <td>Classic Lassi Shop</td>\n",
              "      <td>Yes</td>\n",
              "      <td>No</td>\n",
              "      <td>3.5</td>\n",
              "      <td>43</td>\n",
              "      <td>+91 8792958786\\r\\r\\r\\n+91 8073579529</td>\n",
              "      <td>Ulsoor</td>\n",
              "      <td>Beverage Shop</td>\n",
              "      <td>NaN</td>\n",
              "      <td>Beverages, Ice Cream</td>\n",
              "      <td>150</td>\n",
              "      <td>[('Rated 3.0', 'RATED\\n  I have mixed feeling ...</td>\n",
              "      <td>[]</td>\n",
              "      <td>Delivery</td>\n",
              "      <td>Church Street</td>\n",
              "    </tr>\n",
              "  </tbody>\n",
              "</table>\n",
              "</div>\n",
              "    <div class=\"colab-df-buttons\">\n",
              "      \n",
              "  <div class=\"colab-df-container\">\n",
              "    <button class=\"colab-df-convert\" onclick=\"convertToInteractive('df-f1713737-31c4-43a4-a645-f4126e59144c')\"\n",
              "            title=\"Convert this dataframe to an interactive table.\"\n",
              "            style=\"display:none;\">\n",
              "      \n",
              "  <svg xmlns=\"http://www.w3.org/2000/svg\" height=\"24px\" viewBox=\"0 -960 960 960\">\n",
              "    <path d=\"M120-120v-720h720v720H120Zm60-500h600v-160H180v160Zm220 220h160v-160H400v160Zm0 220h160v-160H400v160ZM180-400h160v-160H180v160Zm440 0h160v-160H620v160ZM180-180h160v-160H180v160Zm440 0h160v-160H620v160Z\"/>\n",
              "  </svg>\n",
              "    </button>\n",
              "    \n",
              "  <style>\n",
              "    .colab-df-container {\n",
              "      display:flex;\n",
              "      gap: 12px;\n",
              "    }\n",
              "\n",
              "    .colab-df-convert {\n",
              "      background-color: #E8F0FE;\n",
              "      border: none;\n",
              "      border-radius: 50%;\n",
              "      cursor: pointer;\n",
              "      display: none;\n",
              "      fill: #1967D2;\n",
              "      height: 32px;\n",
              "      padding: 0 0 0 0;\n",
              "      width: 32px;\n",
              "    }\n",
              "\n",
              "    .colab-df-convert:hover {\n",
              "      background-color: #E2EBFA;\n",
              "      box-shadow: 0px 1px 2px rgba(60, 64, 67, 0.3), 0px 1px 3px 1px rgba(60, 64, 67, 0.15);\n",
              "      fill: #174EA6;\n",
              "    }\n",
              "\n",
              "    .colab-df-buttons div {\n",
              "      margin-bottom: 4px;\n",
              "    }\n",
              "\n",
              "    [theme=dark] .colab-df-convert {\n",
              "      background-color: #3B4455;\n",
              "      fill: #D2E3FC;\n",
              "    }\n",
              "\n",
              "    [theme=dark] .colab-df-convert:hover {\n",
              "      background-color: #434B5C;\n",
              "      box-shadow: 0px 1px 3px 1px rgba(0, 0, 0, 0.15);\n",
              "      filter: drop-shadow(0px 1px 2px rgba(0, 0, 0, 0.3));\n",
              "      fill: #FFFFFF;\n",
              "    }\n",
              "  </style>\n",
              "\n",
              "    <script>\n",
              "      const buttonEl =\n",
              "        document.querySelector('#df-f1713737-31c4-43a4-a645-f4126e59144c button.colab-df-convert');\n",
              "      buttonEl.style.display =\n",
              "        google.colab.kernel.accessAllowed ? 'block' : 'none';\n",
              "\n",
              "      async function convertToInteractive(key) {\n",
              "        const element = document.querySelector('#df-f1713737-31c4-43a4-a645-f4126e59144c');\n",
              "        const dataTable =\n",
              "          await google.colab.kernel.invokeFunction('convertToInteractive',\n",
              "                                                    [key], {});\n",
              "        if (!dataTable) return;\n",
              "\n",
              "        const docLinkHtml = 'Like what you see? Visit the ' +\n",
              "          '<a target=\"_blank\" href=https://colab.research.google.com/notebooks/data_table.ipynb>data table notebook</a>'\n",
              "          + ' to learn more about interactive tables.';\n",
              "        element.innerHTML = '';\n",
              "        dataTable['output_type'] = 'display_data';\n",
              "        await google.colab.output.renderOutput(dataTable, element);\n",
              "        const docLink = document.createElement('div');\n",
              "        docLink.innerHTML = docLinkHtml;\n",
              "        element.appendChild(docLink);\n",
              "      }\n",
              "    </script>\n",
              "  </div>\n",
              "  \n",
              "    </div>\n",
              "  </div>\n",
              "  "
            ]
          },
          "metadata": {},
          "execution_count": 3
        }
      ]
    },
    {
      "cell_type": "code",
      "source": [
        "data=data.drop(['url','address','phone','reviews_list','menu_item','listed_in(city)'], axis=1)"
      ],
      "metadata": {
        "id": "RIYuzthQsakN"
      },
      "execution_count": null,
      "outputs": []
    },
    {
      "cell_type": "code",
      "source": [
        "data.columns"
      ],
      "metadata": {
        "colab": {
          "base_uri": "https://localhost:8080/"
        },
        "id": "EbN25Kw2uOCc",
        "outputId": "6343f493-9702-4b59-912c-13c79a76f53e"
      },
      "execution_count": null,
      "outputs": [
        {
          "output_type": "execute_result",
          "data": {
            "text/plain": [
              "Index(['name', 'online_order', 'book_table', 'rate', 'votes', 'location',\n",
              "       'rest_type', 'dish_liked', 'cuisines', 'approx_cost(for two people)',\n",
              "       'listed_in(type)'],\n",
              "      dtype='object')"
            ]
          },
          "metadata": {},
          "execution_count": 5
        }
      ]
    },
    {
      "cell_type": "code",
      "source": [
        "data.shape"
      ],
      "metadata": {
        "colab": {
          "base_uri": "https://localhost:8080/"
        },
        "id": "-AetwpcuuTsR",
        "outputId": "6389a5a1-e348-4fa4-95b3-f40ab839f4bb"
      },
      "execution_count": null,
      "outputs": [
        {
          "output_type": "execute_result",
          "data": {
            "text/plain": [
              "(20619, 11)"
            ]
          },
          "metadata": {},
          "execution_count": 6
        }
      ]
    },
    {
      "cell_type": "code",
      "source": [
        "data.count()"
      ],
      "metadata": {
        "colab": {
          "base_uri": "https://localhost:8080/",
          "height": 429
        },
        "id": "lhlFaBtnuuEy",
        "outputId": "1b74f3be-1cf8-429f-d59c-7ebf3bdf4f0a"
      },
      "execution_count": null,
      "outputs": [
        {
          "output_type": "execute_result",
          "data": {
            "text/plain": [
              "name                           20619\n",
              "online_order                   20619\n",
              "book_table                     20619\n",
              "rate                           20619\n",
              "votes                          20619\n",
              "location                       20609\n",
              "rest_type                      20523\n",
              "dish_liked                      9374\n",
              "cuisines                       20601\n",
              "approx_cost(for two people)    20466\n",
              "listed_in(type)                20619\n",
              "dtype: int64"
            ],
            "text/html": [
              "<div>\n",
              "<style scoped>\n",
              "    .dataframe tbody tr th:only-of-type {\n",
              "        vertical-align: middle;\n",
              "    }\n",
              "\n",
              "    .dataframe tbody tr th {\n",
              "        vertical-align: top;\n",
              "    }\n",
              "\n",
              "    .dataframe thead th {\n",
              "        text-align: right;\n",
              "    }\n",
              "</style>\n",
              "<table border=\"1\" class=\"dataframe\">\n",
              "  <thead>\n",
              "    <tr style=\"text-align: right;\">\n",
              "      <th></th>\n",
              "      <th>0</th>\n",
              "    </tr>\n",
              "  </thead>\n",
              "  <tbody>\n",
              "    <tr>\n",
              "      <th>name</th>\n",
              "      <td>20619</td>\n",
              "    </tr>\n",
              "    <tr>\n",
              "      <th>online_order</th>\n",
              "      <td>20619</td>\n",
              "    </tr>\n",
              "    <tr>\n",
              "      <th>book_table</th>\n",
              "      <td>20619</td>\n",
              "    </tr>\n",
              "    <tr>\n",
              "      <th>rate</th>\n",
              "      <td>20619</td>\n",
              "    </tr>\n",
              "    <tr>\n",
              "      <th>votes</th>\n",
              "      <td>20619</td>\n",
              "    </tr>\n",
              "    <tr>\n",
              "      <th>location</th>\n",
              "      <td>20609</td>\n",
              "    </tr>\n",
              "    <tr>\n",
              "      <th>rest_type</th>\n",
              "      <td>20523</td>\n",
              "    </tr>\n",
              "    <tr>\n",
              "      <th>dish_liked</th>\n",
              "      <td>9374</td>\n",
              "    </tr>\n",
              "    <tr>\n",
              "      <th>cuisines</th>\n",
              "      <td>20601</td>\n",
              "    </tr>\n",
              "    <tr>\n",
              "      <th>approx_cost(for two people)</th>\n",
              "      <td>20466</td>\n",
              "    </tr>\n",
              "    <tr>\n",
              "      <th>listed_in(type)</th>\n",
              "      <td>20619</td>\n",
              "    </tr>\n",
              "  </tbody>\n",
              "</table>\n",
              "</div><br><label><b>dtype:</b> int64</label>"
            ]
          },
          "metadata": {},
          "execution_count": 7
        }
      ]
    },
    {
      "cell_type": "code",
      "source": [
        "missing=pd.DataFrame((data.isnull().sum())*100/data.shape[0]).reset_index()\n",
        "ax=sns.pointplot(data=missing,x='index',y=0)\n",
        "plt.xticks(rotation=90,fontsize=8)\n",
        "plt.title(\"Percentage of Missing Values\")\n",
        "plt.ylabel(\"PERCENTAGE\")\n",
        "plt.show()"
      ],
      "metadata": {
        "colab": {
          "base_uri": "https://localhost:8080/",
          "height": 614
        },
        "id": "IdZv-itruxxH",
        "outputId": "3b9dbb0f-ab49-4cc2-beb2-40cc9d6d8a68"
      },
      "execution_count": null,
      "outputs": [
        {
          "output_type": "display_data",
          "data": {
            "text/plain": [
              "<Figure size 640x480 with 1 Axes>"
            ],
            "image/png": "[encoded data removed]"
          },
          "metadata": {}
        }
      ]
    },
    {
      "cell_type": "markdown",
      "source": [
        "Handling missing values"
      ],
      "metadata": {
        "id": "wRqEVuoOzKbO"
      }
    },
    {
      "cell_type": "code",
      "source": [
        "data['approx_cost(for two people)']=data['approx_cost(for two people)'].str.replace(',','')\n",
        "pd.to_numeric(data['approx_cost(for two people)'])"
      ],
      "metadata": {
        "colab": {
          "base_uri": "https://localhost:8080/",
          "height": 458
        },
        "id": "n3bq070EwClV",
        "outputId": "3b923fe4-6fad-4184-8e86-83a51f527389"
      },
      "execution_count": null,
      "outputs": [
        {
          "output_type": "execute_result",
          "data": {
            "text/plain": [
              "0         400.0\n",
              "1         750.0\n",
              "2         400.0\n",
              "3         500.0\n",
              "4         150.0\n",
              "          ...  \n",
              "20614     300.0\n",
              "20615     200.0\n",
              "20616     550.0\n",
              "20617    1000.0\n",
              "20618     300.0\n",
              "Name: approx_cost(for two people), Length: 20619, dtype: float64"
            ],
            "text/html": [
              "<div>\n",
              "<style scoped>\n",
              "    .dataframe tbody tr th:only-of-type {\n",
              "        vertical-align: middle;\n",
              "    }\n",
              "\n",
              "    .dataframe tbody tr th {\n",
              "        vertical-align: top;\n",
              "    }\n",
              "\n",
              "    .dataframe thead th {\n",
              "        text-align: right;\n",
              "    }\n",
              "</style>\n",
              "<table border=\"1\" class=\"dataframe\">\n",
              "  <thead>\n",
              "    <tr style=\"text-align: right;\">\n",
              "      <th></th>\n",
              "      <th>approx_cost(for two people)</th>\n",
              "    </tr>\n",
              "  </thead>\n",
              "  <tbody>\n",
              "    <tr>\n",
              "      <th>0</th>\n",
              "      <td>400.0</td>\n",
              "    </tr>\n",
              "    <tr>\n",
              "      <th>1</th>\n",
              "      <td>750.0</td>\n",
              "    </tr>\n",
              "    <tr>\n",
              "      <th>2</th>\n",
              "      <td>400.0</td>\n",
              "    </tr>\n",
              "    <tr>\n",
              "      <th>3</th>\n",
              "      <td>500.0</td>\n",
              "    </tr>\n",
              "    <tr>\n",
              "      <th>4</th>\n",
              "      <td>150.0</td>\n",
              "    </tr>\n",
              "    <tr>\n",
              "      <th>...</th>\n",
              "      <td>...</td>\n",
              "    </tr>\n",
              "    <tr>\n",
              "      <th>20614</th>\n",
              "      <td>300.0</td>\n",
              "    </tr>\n",
              "    <tr>\n",
              "      <th>20615</th>\n",
              "      <td>200.0</td>\n",
              "    </tr>\n",
              "    <tr>\n",
              "      <th>20616</th>\n",
              "      <td>550.0</td>\n",
              "    </tr>\n",
              "    <tr>\n",
              "      <th>20617</th>\n",
              "      <td>1000.0</td>\n",
              "    </tr>\n",
              "    <tr>\n",
              "      <th>20618</th>\n",
              "      <td>300.0</td>\n",
              "    </tr>\n",
              "  </tbody>\n",
              "</table>\n",
              "<p>20619 rows × 1 columns</p>\n",
              "</div><br><label><b>dtype:</b> float64</label>"
            ]
          },
          "metadata": {},
          "execution_count": 9
        }
      ]
    },
    {
      "cell_type": "code",
      "source": [
        "data['approx_cost(for two people)']=data['approx_cost(for two people)'].astype('Int64')\n",
        "median_rate=data['approx_cost(for two people)'].median()\n",
        "data['approx_cost(for two people)']=data['approx_cost(for two people)'].fillna(median_rate)"
      ],
      "metadata": {
        "id": "7H15gNi8zfNJ"
      },
      "execution_count": null,
      "outputs": []
    },
    {
      "cell_type": "code",
      "source": [
        "data['rest_type']=data['rest_type'].fillna('unknown')\n",
        "data['cuisines']=data['cuisines'].fillna('unknown')\n",
        "data['location']=data['location'].fillna('unknown')"
      ],
      "metadata": {
        "id": "nDdS8GcxzguK"
      },
      "execution_count": null,
      "outputs": []
    },
    {
      "cell_type": "code",
      "source": [
        "data.count()"
      ],
      "metadata": {
        "colab": {
          "base_uri": "https://localhost:8080/",
          "height": 429
        },
        "id": "0n-id1Afzkh3",
        "outputId": "e8fc86f1-1598-45da-8bef-e039cf749acc"
      },
      "execution_count": null,
      "outputs": [
        {
          "output_type": "execute_result",
          "data": {
            "text/plain": [
              "name                           20619\n",
              "online_order                   20619\n",
              "book_table                     20619\n",
              "rate                           20619\n",
              "votes                          20619\n",
              "location                       20619\n",
              "rest_type                      20619\n",
              "dish_liked                      9374\n",
              "cuisines                       20619\n",
              "approx_cost(for two people)    20619\n",
              "listed_in(type)                20619\n",
              "dtype: int64"
            ],
            "text/html": [
              "<div>\n",
              "<style scoped>\n",
              "    .dataframe tbody tr th:only-of-type {\n",
              "        vertical-align: middle;\n",
              "    }\n",
              "\n",
              "    .dataframe tbody tr th {\n",
              "        vertical-align: top;\n",
              "    }\n",
              "\n",
              "    .dataframe thead th {\n",
              "        text-align: right;\n",
              "    }\n",
              "</style>\n",
              "<table border=\"1\" class=\"dataframe\">\n",
              "  <thead>\n",
              "    <tr style=\"text-align: right;\">\n",
              "      <th></th>\n",
              "      <th>0</th>\n",
              "    </tr>\n",
              "  </thead>\n",
              "  <tbody>\n",
              "    <tr>\n",
              "      <th>name</th>\n",
              "      <td>20619</td>\n",
              "    </tr>\n",
              "    <tr>\n",
              "      <th>online_order</th>\n",
              "      <td>20619</td>\n",
              "    </tr>\n",
              "    <tr>\n",
              "      <th>book_table</th>\n",
              "      <td>20619</td>\n",
              "    </tr>\n",
              "    <tr>\n",
              "      <th>rate</th>\n",
              "      <td>20619</td>\n",
              "    </tr>\n",
              "    <tr>\n",
              "      <th>votes</th>\n",
              "      <td>20619</td>\n",
              "    </tr>\n",
              "    <tr>\n",
              "      <th>location</th>\n",
              "      <td>20619</td>\n",
              "    </tr>\n",
              "    <tr>\n",
              "      <th>rest_type</th>\n",
              "      <td>20619</td>\n",
              "    </tr>\n",
              "    <tr>\n",
              "      <th>dish_liked</th>\n",
              "      <td>9374</td>\n",
              "    </tr>\n",
              "    <tr>\n",
              "      <th>cuisines</th>\n",
              "      <td>20619</td>\n",
              "    </tr>\n",
              "    <tr>\n",
              "      <th>approx_cost(for two people)</th>\n",
              "      <td>20619</td>\n",
              "    </tr>\n",
              "    <tr>\n",
              "      <th>listed_in(type)</th>\n",
              "      <td>20619</td>\n",
              "    </tr>\n",
              "  </tbody>\n",
              "</table>\n",
              "</div><br><label><b>dtype:</b> int64</label>"
            ]
          },
          "metadata": {},
          "execution_count": 12
        }
      ]
    },
    {
      "cell_type": "markdown",
      "source": [
        "Preprocessing"
      ],
      "metadata": {
        "id": "oMVWLcC51LXA"
      }
    },
    {
      "cell_type": "code",
      "source": [
        "import nltk\n",
        "nltk.download('punkt')\n",
        "from nltk.tokenize import word_tokenize\n",
        "import re"
      ],
      "metadata": {
        "colab": {
          "base_uri": "https://localhost:8080/"
        },
        "id": "EKUMvt9a1mjQ",
        "outputId": "cde0c906-d5d2-4460-c4d0-f8f6d7b647ef"
      },
      "execution_count": null,
      "outputs": [
        {
          "output_type": "stream",
          "name": "stderr",
          "text": [
            "[nltk_data] Downloading package punkt to /root/nltk_data...\n",
            "[nltk_data]   Package punkt is already up-to-date!\n"
          ]
        }
      ]
    },
    {
      "cell_type": "code",
      "source": [
        "print(data['cuisines'])"
      ],
      "metadata": {
        "colab": {
          "base_uri": "https://localhost:8080/"
        },
        "id": "Tpn1YIb4zqDR",
        "outputId": "5687f3c0-024b-4812-9aa8-8e7443dc955f"
      },
      "execution_count": null,
      "outputs": [
        {
          "output_type": "stream",
          "name": "stdout",
          "text": [
            "0                                    Cafe\n",
            "1                            North Indian\n",
            "2                                 Bengali\n",
            "3                                    Cafe\n",
            "4                    Beverages, Ice Cream\n",
            "                       ...               \n",
            "20614                        North Indian\n",
            "20615                        North Indian\n",
            "20616      Chinese, North Indian, Biryani\n",
            "20617    North Indian, Chinese, Fast Food\n",
            "20618               North Indian, Biryani\n",
            "Name: cuisines, Length: 20619, dtype: object\n"
          ]
        }
      ]
    },
    {
      "cell_type": "code",
      "source": [
        "data['cuisines']=data['cuisines'].str.lower()"
      ],
      "metadata": {
        "id": "V-djLbxR073N"
      },
      "execution_count": null,
      "outputs": []
    },
    {
      "cell_type": "code",
      "source": [
        "data['dish_liked'] = data['dish_liked'].str.lower()\n",
        "data['name']=data['name'].str.lower()\n",
        "data['dish_liked'] = data['dish_liked'].fillna('')"
      ],
      "metadata": {
        "id": "JsIpro_o3E6p"
      },
      "execution_count": null,
      "outputs": []
    },
    {
      "cell_type": "markdown",
      "source": [
        "Creating Combined Features"
      ],
      "metadata": {
        "id": "35Wnrrn1KcV_"
      }
    },
    {
      "cell_type": "code",
      "source": [
        "data['combined_features']=data['name']+' '+data['dish_liked']+' '+data['cuisines']"
      ],
      "metadata": {
        "id": "UUQHU9JVKg2d"
      },
      "execution_count": null,
      "outputs": []
    },
    {
      "cell_type": "markdown",
      "source": [
        "Standardizing Numeric values"
      ],
      "metadata": {
        "id": "3mtd-ydNF3Gu"
      }
    },
    {
      "cell_type": "code",
      "source": [
        "from sklearn.preprocessing import StandardScaler"
      ],
      "metadata": {
        "id": "8SJ9C2wR_6k7"
      },
      "execution_count": null,
      "outputs": []
    },
    {
      "cell_type": "code",
      "source": [
        "scaler = StandardScaler()"
      ],
      "metadata": {
        "id": "9uTDWcHU_8Ym"
      },
      "execution_count": null,
      "outputs": []
    },
    {
      "cell_type": "code",
      "source": [
        "data[['rate','votes','approx_cost(for two people)']]=scaler.fit_transform(data[['rate','votes','approx_cost(for two people)']])"
      ],
      "metadata": {
        "id": "JVe385nXCmf_"
      },
      "execution_count": null,
      "outputs": []
    },
    {
      "cell_type": "markdown",
      "source": [
        "Applying tfidf vectorizer"
      ],
      "metadata": {
        "id": "ESYMpkqbGC5F"
      }
    },
    {
      "cell_type": "code",
      "source": [
        "from sklearn.feature_extraction.text import TfidfVectorizer"
      ],
      "metadata": {
        "id": "z5F7CxFTGF1X"
      },
      "execution_count": null,
      "outputs": []
    },
    {
      "cell_type": "code",
      "source": [
        "tfidf = TfidfVectorizer()\n",
        "tfidf_matrix = tfidf.fit_transform(data['combined_features'])"
      ],
      "metadata": {
        "id": "hd_CDcNW8X4l"
      },
      "execution_count": null,
      "outputs": []
    },
    {
      "cell_type": "markdown",
      "source": [
        "Cosine Similarity"
      ],
      "metadata": {
        "id": "qkgJFzHkFwwL"
      }
    },
    {
      "cell_type": "code",
      "source": [
        "from sklearn.metrics.pairwise import cosine_similarity"
      ],
      "metadata": {
        "id": "EggdM2UGDTq0"
      },
      "execution_count": null,
      "outputs": []
    },
    {
      "cell_type": "code",
      "source": [
        "print(\"Shape of TF-IDF Matrix 1:\", tfidf_matrix.shape)"
      ],
      "metadata": {
        "colab": {
          "base_uri": "https://localhost:8080/"
        },
        "id": "l_aSzGRkJE86",
        "outputId": "ae329a55-ba69-43e9-a7b8-aa5990ce4365"
      },
      "execution_count": null,
      "outputs": [
        {
          "output_type": "stream",
          "name": "stdout",
          "text": [
            "Shape of TF-IDF Matrix 1: (20619, 6123)\n"
          ]
        }
      ]
    },
    {
      "cell_type": "code",
      "source": [
        "cosine_sim = cosine_similarity(tfidf_matrix)"
      ],
      "metadata": {
        "id": "NK06kMEsI8tl"
      },
      "execution_count": null,
      "outputs": []
    },
    {
      "cell_type": "code",
      "source": [
        "#similarity matrix\n",
        "similarity_df = pd.DataFrame(cosine_sim, index=data['name'], columns=data['name'])"
      ],
      "metadata": {
        "id": "pjr8kxE9K-6B"
      },
      "execution_count": null,
      "outputs": []
    },
    {
      "cell_type": "code",
      "source": [
        "print(similarity_df)"
      ],
      "metadata": {
        "colab": {
          "base_uri": "https://localhost:8080/"
        },
        "id": "ON8P68tFQGT2",
        "outputId": "77d39b6f-fe68-49f4-f498-07a8f07c6926"
      },
      "execution_count": null,
      "outputs": [
        {
          "output_type": "stream",
          "name": "stdout",
          "text": [
            "name                   dasaprakash cafe  zaica dine & wine  decker's lane  \\\n",
            "name                                                                        \n",
            "dasaprakash cafe               1.000000           0.000000       0.000000   \n",
            "zaica dine & wine              0.000000           1.000000       0.030670   \n",
            "decker's lane                  0.000000           0.030670       1.000000   \n",
            "la passion cafe                0.282828           0.000000       0.000000   \n",
            "classic lassi shop             0.000000           0.000000       0.000000   \n",
            "...                                 ...                ...            ...   \n",
            "dil punjabi                    0.000000           0.023643       0.000000   \n",
            "allana kabab                   0.000000           0.023643       0.000000   \n",
            "chinese chaska                 0.000000           0.054188       0.000000   \n",
            "chin lung resto-bar            0.000000           0.024443       0.031374   \n",
            "new prince restaurant          0.000000           0.043438       0.000000   \n",
            "\n",
            "name                   la passion cafe  classic lassi shop  \\\n",
            "name                                                         \n",
            "dasaprakash cafe              0.282828                 0.0   \n",
            "zaica dine & wine             0.000000                 0.0   \n",
            "decker's lane                 0.000000                 0.0   \n",
            "la passion cafe               1.000000                 0.0   \n",
            "classic lassi shop            0.000000                 1.0   \n",
            "...                                ...                 ...   \n",
            "dil punjabi                   0.000000                 0.0   \n",
            "allana kabab                  0.000000                 0.0   \n",
            "chinese chaska                0.000000                 0.0   \n",
            "chin lung resto-bar           0.000000                 0.0   \n",
            "new prince restaurant         0.000000                 0.0   \n",
            "\n",
            "name                   hanoi - vietnamese cuisine  food singh  \\\n",
            "name                                                            \n",
            "dasaprakash cafe                         0.000000    0.000000   \n",
            "zaica dine & wine                        0.000000    0.033731   \n",
            "decker's lane                            0.026172    0.000000   \n",
            "la passion cafe                          0.000000    0.000000   \n",
            "classic lassi shop                       0.097521    0.000000   \n",
            "...                                           ...         ...   \n",
            "dil punjabi                              0.000000    0.074947   \n",
            "allana kabab                             0.000000    0.074949   \n",
            "chinese chaska                           0.000000    0.082574   \n",
            "chin lung resto-bar                      0.028168    0.066858   \n",
            "new prince restaurant                    0.000000    0.066193   \n",
            "\n",
            "name                   al habibi restaurant  arya hungry?  nandhana palace  \\\n",
            "name                                                                         \n",
            "dasaprakash cafe                   0.000000      0.000000         0.000000   \n",
            "zaica dine & wine                  0.022081      0.148854         0.131507   \n",
            "decker's lane                      0.000000      0.035068         0.092997   \n",
            "la passion cafe                    0.000000      0.000000         0.000000   \n",
            "classic lassi shop                 0.000000      0.000000         0.000000   \n",
            "...                                     ...           ...              ...   \n",
            "dil punjabi                        0.049061      0.101617         0.023760   \n",
            "allana kabab                       0.049062      0.027987         0.023761   \n",
            "chinese chaska                     0.133530      0.030834         0.121229   \n",
            "chin lung resto-bar                0.042112      0.028933         0.058827   \n",
            "new prince restaurant              0.140996      0.024717         0.066324   \n",
            "\n",
            "name                   ...  chels cafe  bisimillah biriyani's & kebab's  \\\n",
            "name                   ...                                                \n",
            "dasaprakash cafe       ...    0.295043                         0.000000   \n",
            "zaica dine & wine      ...    0.000000                         0.024388   \n",
            "decker's lane          ...    0.000000                         0.000000   \n",
            "la passion cafe        ...    0.260119                         0.000000   \n",
            "classic lassi shop     ...    0.000000                         0.000000   \n",
            "...                    ...         ...                              ...   \n",
            "dil punjabi            ...    0.000000                         0.000000   \n",
            "allana kabab           ...    0.000000                         0.000000   \n",
            "chinese chaska         ...    0.000000                         0.059701   \n",
            "chin lung resto-bar    ...    0.000000                         0.050528   \n",
            "new prince restaurant  ...    0.000000                         0.047857   \n",
            "\n",
            "name                   feastaurant  graffitea  chai ki tapri  dil punjabi  \\\n",
            "name                                                                        \n",
            "dasaprakash cafe          0.000000   0.000000       0.142649     0.000000   \n",
            "zaica dine & wine         0.000000   0.000000       0.000000     0.023643   \n",
            "decker's lane             0.105395   0.000000       0.000000     0.000000   \n",
            "la passion cafe           0.000000   0.000000       0.125764     0.000000   \n",
            "classic lassi shop        0.000000   0.081233       0.000000     0.000000   \n",
            "...                            ...        ...            ...          ...   \n",
            "dil punjabi               0.000000   0.000000       0.000000     1.000000   \n",
            "allana kabab              0.000000   0.000000       0.000000     0.052532   \n",
            "chinese chaska            0.083178   0.000000       0.000000     0.057876   \n",
            "chin lung resto-bar       0.018673   0.053657       0.000000     0.025986   \n",
            "new prince restaurant     0.000000   0.000000       0.000000     0.046395   \n",
            "\n",
            "name                   allana kabab  chinese chaska  chin lung resto-bar  \\\n",
            "name                                                                       \n",
            "dasaprakash cafe           0.000000        0.000000             0.000000   \n",
            "zaica dine & wine          0.023643        0.054188             0.024443   \n",
            "decker's lane              0.000000        0.000000             0.031374   \n",
            "la passion cafe            0.000000        0.000000             0.000000   \n",
            "classic lassi shop         0.000000        0.000000             0.000000   \n",
            "...                             ...             ...                  ...   \n",
            "dil punjabi                0.052532        0.057876             0.025986   \n",
            "allana kabab               1.000000        0.057878             0.025987   \n",
            "chinese chaska             0.057878        1.000000             0.070728   \n",
            "chin lung resto-bar        0.025987        0.070728             1.000000   \n",
            "new prince restaurant      0.046396        0.106335             0.022951   \n",
            "\n",
            "name                   new prince restaurant  \n",
            "name                                          \n",
            "dasaprakash cafe                    0.000000  \n",
            "zaica dine & wine                   0.043438  \n",
            "decker's lane                       0.000000  \n",
            "la passion cafe                     0.000000  \n",
            "classic lassi shop                  0.000000  \n",
            "...                                      ...  \n",
            "dil punjabi                         0.046395  \n",
            "allana kabab                        0.046396  \n",
            "chinese chaska                      0.106335  \n",
            "chin lung resto-bar                 0.022951  \n",
            "new prince restaurant               1.000000  \n",
            "\n",
            "[20619 rows x 20619 columns]\n"
          ]
        }
      ]
    },
    {
      "cell_type": "code",
      "source": [
        "print(\"Shape of similarity_df:\", similarity_df.shape)\n",
        "print(\"First few rows of similarity_df:\\n\", similarity_df.head())"
      ],
      "metadata": {
        "colab": {
          "base_uri": "https://localhost:8080/"
        },
        "id": "VTMOadtBQujD",
        "outputId": "c58cb54b-72f4-419e-fc5f-d6ee1811a1a4"
      },
      "execution_count": null,
      "outputs": [
        {
          "output_type": "stream",
          "name": "stdout",
          "text": [
            "Shape of similarity_df: (20619, 20619)\n",
            "First few rows of similarity_df:\n",
            " name                dasaprakash cafe  zaica dine & wine  decker's lane  \\\n",
            "name                                                                     \n",
            "dasaprakash cafe            1.000000            0.00000        0.00000   \n",
            "zaica dine & wine           0.000000            1.00000        0.03067   \n",
            "decker's lane               0.000000            0.03067        1.00000   \n",
            "la passion cafe             0.282828            0.00000        0.00000   \n",
            "classic lassi shop          0.000000            0.00000        0.00000   \n",
            "\n",
            "name                la passion cafe  classic lassi shop  \\\n",
            "name                                                      \n",
            "dasaprakash cafe           0.282828                 0.0   \n",
            "zaica dine & wine          0.000000                 0.0   \n",
            "decker's lane              0.000000                 0.0   \n",
            "la passion cafe            1.000000                 0.0   \n",
            "classic lassi shop         0.000000                 1.0   \n",
            "\n",
            "name                hanoi - vietnamese cuisine  food singh  \\\n",
            "name                                                         \n",
            "dasaprakash cafe                      0.000000    0.000000   \n",
            "zaica dine & wine                     0.000000    0.033731   \n",
            "decker's lane                         0.026172    0.000000   \n",
            "la passion cafe                       0.000000    0.000000   \n",
            "classic lassi shop                    0.097521    0.000000   \n",
            "\n",
            "name                al habibi restaurant  arya hungry?  nandhana palace  ...  \\\n",
            "name                                                                     ...   \n",
            "dasaprakash cafe                0.000000      0.000000         0.000000  ...   \n",
            "zaica dine & wine               0.022081      0.148854         0.131507  ...   \n",
            "decker's lane                   0.000000      0.035068         0.092997  ...   \n",
            "la passion cafe                 0.000000      0.000000         0.000000  ...   \n",
            "classic lassi shop              0.000000      0.000000         0.000000  ...   \n",
            "\n",
            "name                chels cafe  bisimillah biriyani's & kebab's  feastaurant  \\\n",
            "name                                                                           \n",
            "dasaprakash cafe      0.295043                         0.000000     0.000000   \n",
            "zaica dine & wine     0.000000                         0.024388     0.000000   \n",
            "decker's lane         0.000000                         0.000000     0.105395   \n",
            "la passion cafe       0.260119                         0.000000     0.000000   \n",
            "classic lassi shop    0.000000                         0.000000     0.000000   \n",
            "\n",
            "name                graffitea  chai ki tapri  dil punjabi  allana kabab  \\\n",
            "name                                                                      \n",
            "dasaprakash cafe     0.000000       0.142649     0.000000      0.000000   \n",
            "zaica dine & wine    0.000000       0.000000     0.023643      0.023643   \n",
            "decker's lane        0.000000       0.000000     0.000000      0.000000   \n",
            "la passion cafe      0.000000       0.125764     0.000000      0.000000   \n",
            "classic lassi shop   0.081233       0.000000     0.000000      0.000000   \n",
            "\n",
            "name                chinese chaska  chin lung resto-bar  new prince restaurant  \n",
            "name                                                                            \n",
            "dasaprakash cafe          0.000000             0.000000               0.000000  \n",
            "zaica dine & wine         0.054188             0.024443               0.043438  \n",
            "decker's lane             0.000000             0.031374               0.000000  \n",
            "la passion cafe           0.000000             0.000000               0.000000  \n",
            "classic lassi shop        0.000000             0.000000               0.000000  \n",
            "\n",
            "[5 rows x 20619 columns]\n"
          ]
        }
      ]
    },
    {
      "cell_type": "code",
      "source": [
        "def recommend_restaurants(restaurant_name, top_n):\n",
        "    restaurant_name = restaurant_name.strip()\n",
        "\n",
        "    # Check if the restaurant exists in the index\n",
        "    if restaurant_name not in similarity_df.index:\n",
        "        return \"Restaurant not found.\"\n",
        "\n",
        "    # Get the similarity scores for the specified restaurant\n",
        "    similarity_scores = similarity_df.loc[restaurant_name].iloc[0]  # Select first row if it's a DataFrame\n",
        "\n",
        "    # Ensure similarity_scores is a Series\n",
        "    if isinstance(similarity_scores, pd.Series):\n",
        "        # Sort the Series of similarity scores\n",
        "        similar_restaurants = similarity_scores.sort_values(ascending=False)\n",
        "\n",
        "        # Get the top N recommended restaurants, excluding the input restaurant\n",
        "        recommended_restaurants = similar_restaurants[similar_restaurants.index != restaurant_name].head(top_n)  # Exclude itself\n",
        "\n",
        "        # Deduplicate and convert to list\n",
        "        unique_recommendations = list(dict.fromkeys(recommended_restaurants.index.tolist()))  # Using dict.fromkeys to maintain order and deduplicate\n",
        "\n",
        "        # Return only the top N unique recommendations\n",
        "        return unique_recommendations[:top_n]\n",
        "    else:\n",
        "        return \"Failed to get similarity scores.\""
      ],
      "metadata": {
        "id": "Duq_JmjoLnMq"
      },
      "execution_count": null,
      "outputs": []
    },
    {
      "cell_type": "code",
      "source": [
        "recommended = recommend_restaurants(\"flechazo\", top_n=10)\n",
        "print(f\"Recommended restaurants for the given restaurant: {recommended}\")"
      ],
      "metadata": {
        "colab": {
          "base_uri": "https://localhost:8080/"
        },
        "id": "rgTQ_sqfLpRA",
        "outputId": "2078502e-1544-4c93-9902-d5c6be4c54c3"
      },
      "execution_count": null,
      "outputs": [
        {
          "output_type": "stream",
          "name": "stdout",
          "text": [
            "Recommended restaurants for the given restaurant: ['sheesh kebab', \"ab's - absolute barbecues\", \"meeraa's beegara oota\", 'barbeque nation', 'the black pearl']\n"
          ]
        }
      ]
    }
  ]
}